{
 "cells": [
  {
   "cell_type": "markdown",
   "metadata": {},
   "source": [
    "# <font size=\"7\"> Captcha Solver with Deep Learning </font>"
   ]
  },
  {
   "cell_type": "markdown",
   "metadata": {},
   "source": [
    "The CAPTCHA has become an important issue in multimedia security. CAPTCHAs were designed to prevent computers from automatically filling out forms by verifying that you are a real person. But with the rise of deep learning and computer vision, they can now often be defeated easily. \n",
    "\n",
    "<br />\n",
    "<div>\n",
    "<img src=\"notebookImages/ANeuralNetwork.jfif\" width=\"500\"/>\n",
    "</div>\n",
    "<br />\n",
    "\n",
    "In this notebook, we implement CAPTCHA image recognition and prediction. We study the use of a Deep Learning algorithm- Convolutional Neural Network in CAPTCHA recognition. We also use simpler classification algorithms- Randomn Forest and K-Nearest Neighbours. The accuracy of each is compared. "
   ]
  },
  {
   "cell_type": "markdown",
   "metadata": {},
   "source": [
    "# The Dataset"
   ]
  },
  {
   "cell_type": "markdown",
   "metadata": {},
   "source": [
    "The dataset consists of 4-letter CAPTCHAs using a random mix of four different fonts. The CAPTCHAs have both alphabets and numbers. Our training data has 10,000 PNG files with the correct answer for each as the filename.\n",
    "Here is what it looks like-\n",
    "\n",
    "<br />\n",
    "<div>\n",
    "<img src=\"notebookImages/aLookAtTheDataset.PNG\" width=\"500\"/>\n",
    "</div>\n",
    "<br />"
   ]
  },
  {
   "cell_type": "markdown",
   "metadata": {},
   "source": [
    "We know that the CAPTCHA images are always made of 4 alphanumeric characters. We will split the CAPTCHA such that each letter is a separate image. This way, we only have to train the neural network to recognize a single letter at a time. Hence we extract different variations of each letter into another folder. Here's a look at that folder-\n",
    "\n",
    "<br />\n",
    "<div>\n",
    "<img src=\"notebookImages/Rletter.PNG\" width=\"500\"/>\n",
    "</div>\n",
    "<br />"
   ]
  },
  {
   "cell_type": "markdown",
   "metadata": {},
   "source": [
    "# Image Processing"
   ]
  },
  {
   "cell_type": "markdown",
   "metadata": {},
   "source": [
    "In this segment, we will read in input captcha, do some image procesing to detect 4 regions within the CAPTCHA and save separate images of the characters."
   ]
  },
  {
   "cell_type": "code",
   "execution_count": 1,
   "metadata": {},
   "outputs": [
    {
     "name": "stderr",
     "output_type": "stream",
     "text": [
      "Using TensorFlow backend.\n"
     ]
    }
   ],
   "source": [
    "'Importing required packages'\n",
    "\n",
    "import cv2\n",
    "import imutils\n",
    "from imutils import paths\n",
    "import numpy as np\n",
    "import matplotlib.pyplot as plt\n",
    "%matplotlib inline\n",
    "import os\n",
    "import os.path\n",
    "import glob\n",
    "from sklearn.preprocessing import LabelBinarizer\n",
    "from sklearn.model_selection import train_test_split\n",
    "import pickle\n",
    "import tensorflow\n",
    "from keras.models import Sequential\n",
    "from keras.layers.convolutional import Conv2D, MaxPooling2D\n",
    "from keras.layers.core import Flatten, Dense\n",
    "import sys"
   ]
  },
  {
   "cell_type": "markdown",
   "metadata": {},
   "source": [
    "### Class containing Image Processing functions"
   ]
  },
  {
   "cell_type": "markdown",
   "metadata": {},
   "source": [
    "1. Resize the image - Depending on whichever is greater, height or width, we resize along that side and then we pad the image. Padding is the space between an image or cell contents and its outside border.\n",
    "2. Image Tresholding - Image thresholding is a simple form of image segmentation. It is a way to create a binary image from a grayscale or full-color image. This is done in order to separate \"object\" or foreground pixels from background pixels. This makes it easy to find the continous regions. \n",
    "3. Finding Regions - We use OpenCV’s findContours() function to detect the separate parts of the image that contain continuous blobs of pixels of the same color.\n",
    "4. We then save each region as a separate image file maintaing the order."
   ]
  },
  {
   "cell_type": "code",
   "execution_count": 2,
   "metadata": {},
   "outputs": [],
   "source": [
    "class captcha_breaker:\n",
    "    \n",
    "    def resizeImg(image, width, height):\n",
    "        (imgH, imgW) = image.shape[:2]\n",
    "        if imgW > imgH:\n",
    "            image = imutils.resize(image, width=width)\n",
    "        else:\n",
    "            image = imutils.resize(image, height=height) \n",
    "        newW = int((width - image.shape[1]) / 2.0)\n",
    "        newH = int((height - image.shape[0]) / 2.0)\n",
    "        image = cv2.copyMakeBorder(image, newH, newH, newW, newW,\n",
    "            cv2.BORDER_REPLICATE)\n",
    "        image = cv2.resize(image, (width, height))\n",
    "        return image\n",
    "    \n",
    "    \n",
    "    def processImg(img):    \n",
    "        imgBorder = cv2.copyMakeBorder(img, 8, 8, 8, 8, cv2.BORDER_REPLICATE)\n",
    "        ret, imgThreshold = cv2.threshold(imgBorder, 127, 255, cv2.THRESH_BINARY)\n",
    "        kernel = np.ones((1,2), np.uint8)\n",
    "        imgErode = cv2.erode(imgThreshold, kernel, iterations = 1)\n",
    "        return imgErode\n",
    "    \n",
    "    \n",
    "    def getImgRegion(imgErode):\n",
    "        contours = cv2.findContours(imgErode, cv2.RETR_LIST, cv2.CHAIN_APPROX_SIMPLE)\n",
    "        contours = contours[0]\n",
    "        imageRegions = []\n",
    "        areaArr = []\n",
    "\n",
    "        for contour in contours:\n",
    "            area = cv2.contourArea(contour)\n",
    "            areaArr.append(area)\n",
    "        median = 0\n",
    "        areaArr.sort()\n",
    "        if len(areaArr)%2 != 0:\n",
    "            mid = int(len(areaArr)/2)\n",
    "            median = areaArr[mid]\n",
    "        else:\n",
    "            mid = int(len(areaArr)/2)\n",
    "            median = (areaArr[mid] + areaArr[mid - 1])/2\n",
    "\n",
    "        for contour in contours:\n",
    "            area = cv2.contourArea(contour)\n",
    "            if area > 3*median or area < median/3:\n",
    "                continue;\n",
    "\n",
    "            x, y, w, h = cv2.boundingRect(contour)\n",
    "            imgRGB = cv2.cvtColor(imgErode,cv2.COLOR_GRAY2RGB)\n",
    "            if w/h > 1.25:\n",
    "                half_width = int(w/2)\n",
    "                imageRegions.append((x, y, half_width, h))\n",
    "                imageRegions.append((x + half_width, y, half_width, h))\n",
    "            else:\n",
    "                imageRegions.append((x, y, w, h))\n",
    "\n",
    "        imageRegions = sorted(imageRegions, key=lambda x: x[0])\n",
    "        return imageRegions\n",
    "    \n",
    "    def printRegions(imageRegions):\n",
    "        for point in imageRegions:    \n",
    "            imgRGB = cv2.cvtColor(imgErode, cv2.COLOR_GRAY2RGB)\n",
    "            imgRect = cv2.rectangle(imgRGB, (point[0], point[1]), (point[0]+point[2], point[1]+point[3]), (255,0,0), 1)\n",
    "\n",
    "            plt.imshow(imgRect)\n",
    "            plt.axis('off')\n",
    "            plt.show()\n",
    "            \n",
    "    "
   ]
  },
  {
   "cell_type": "markdown",
   "metadata": {},
   "source": [
    "Now we're ready to try it on some data.\n",
    "This is going to be done in three parts:\n",
    "I. Processing the CAPTCHA\n",
    "II. CAPTCHA prediction using Neural Network\n",
    "III. Randomn Forest and "
   ]
  },
  {
   "cell_type": "markdown",
   "metadata": {},
   "source": [
    "# I. Processing the CAPTCHA"
   ]
  },
  {
   "cell_type": "markdown",
   "metadata": {},
   "source": [
    "### Image Tresholding - To increase the quality of image"
   ]
  },
  {
   "cell_type": "code",
   "execution_count": 3,
   "metadata": {},
   "outputs": [],
   "source": [
    "'Input a test CAPTCHA. Perform Image Tresholding'\n",
    "\n",
    "cb = captcha_breaker\n",
    "img = cv2.imread(\"tests/01.png\", 0)\n",
    "imgErode = cb.processImg(img)\n"
   ]
  },
  {
   "cell_type": "markdown",
   "metadata": {},
   "source": [
    "### Finding Regions - To find separate parts of the image that contain continuous blobs of pixels of the same color"
   ]
  },
  {
   "cell_type": "code",
   "execution_count": 4,
   "metadata": {},
   "outputs": [
    {
     "data": {
      "image/png": "[encoded data removed]",
      "text/plain": [
       "<Figure size 432x288 with 1 Axes>"
      ]
     },
     "metadata": {
      "needs_background": "light"
     },
     "output_type": "display_data"
    },
    {
     "data": {
      "image/png": "[encoded data removed]",
      "text/plain": [
       "<Figure size 432x288 with 1 Axes>"
      ]
     },
     "metadata": {
      "needs_background": "light"
     },
     "output_type": "display_data"
    },
    {
     "data": {
      "image/png": "[encoded data removed]",
      "text/plain": [
       "<Figure size 432x288 with 1 Axes>"
      ]
     },
     "metadata": {
      "needs_background": "light"
     },
     "output_type": "display_data"
    },
    {
     "data": {
      "image/png": "[encoded data removed]",
      "text/plain": [
       "<Figure size 432x288 with 1 Axes>"
      ]
     },
     "metadata": {
      "needs_background": "light"
     },
     "output_type": "display_data"
    }
   ],
   "source": [
    "imageRegions = cb.getImgRegion(imgErode)\n",
    "cb.printRegions(imageRegions)"
   ]
  },
  {
   "cell_type": "markdown",
   "metadata": {},
   "source": [
    "### Processing the data - Find and save as separate alphanumeric value "
   ]
  },
  {
   "cell_type": "markdown",
   "metadata": {},
   "source": [
    "### Extracting single letter images and saving it in a folder called data_letters"
   ]
  },
  {
   "cell_type": "code",
   "execution_count": 9,
   "metadata": {},
   "outputs": [
    {
     "name": "stdout",
     "output_type": "stream",
     "text": [
      "finish processing\n"
     ]
    }
   ],
   "source": [
    "FOLDER_INPUT = \"CAPTCHA_IMGS\"\n",
    "FOLDER_OUTPUT = \"Single_letters\"\n",
    "captchaImgs = glob.glob(os.path.join(FOLDER_INPUT, \"*\"))\n",
    "countLetter = [0, 0, 0, 0, 0, 0, 0, 0, 0, 0, 0, 0, 0, 0, 0, 0, 0, 0, 0, 0, 0, 0, 0, 0, 0, 0]\n",
    "countNumber = [0, 0, 0, 0, 0, 0, 0, 0, 0, 0]\n",
    "\n",
    "for i, file in enumerate(captchaImgs):\n",
    "    name = os.path.basename(file)\n",
    "    captchaText = os.path.splitext(name)[0]\n",
    "    pathImg = \"CAPTCHA_IMGS/\" + name  \n",
    "    img = cv2.imread(pathImg, 0)   \n",
    "    imgErode = cb.processImg(img)\n",
    "    \n",
    "    imageRegions = cb.getImgRegion(imgErode)\n",
    "    if len(imageRegions) != 4:\n",
    "        continue;\n",
    "        \n",
    "    for points, letter in zip(imageRegions, captchaText):\n",
    "        x, y, w, h = points\n",
    "        \n",
    "        imageSave = imgErode[y:y + h, x:x + w]\n",
    "\n",
    "        pathSave = os.path.join(FOLDER_OUTPUT, letter)\n",
    "    \n",
    "        if not os.path.exists(pathSave):\n",
    "            os.makedirs(pathSave)\n",
    "        \n",
    "        ans = ord(letter)\n",
    "\n",
    "        if ans >= 0 and ans < ord('A'):\n",
    "            idx = ans - ord('0')\n",
    "            countNumber[idx] = countNumber[idx] + 1\n",
    "            strImgPath = str(countNumber[idx]) + \".png\"\n",
    "        else:\n",
    "            idx = ans - ord('A')\n",
    "            countLetter[idx] = countLetter[idx] + 1\n",
    "            strImgPath = str(countLetter[idx]) + \".png\"\n",
    "        \n",
    "        pt = os.path.join(pathSave, strImgPath)\n",
    "        cv2.imwrite(pt, imageSave)\n",
    "\n",
    "print(\"finish processing\")"
   ]
  },
  {
   "cell_type": "markdown",
   "metadata": {},
   "source": [
    "# II. CAPTCHA prediction with Neural Network"
   ]
  },
  {
   "cell_type": "markdown",
   "metadata": {},
   "source": [
    "## Training the model"
   ]
  },
  {
   "cell_type": "code",
   "execution_count": 10,
   "metadata": {},
   "outputs": [
    {
     "name": "stdout",
     "output_type": "stream",
     "text": [
      "finish append\n"
     ]
    }
   ],
   "source": [
    "FOLDER_LETTERS_INPUT = \"Single_letters\"\n",
    "\n",
    "dataImages = []\n",
    "dataLabels = []\n",
    "\n",
    "for file in paths.list_images(FOLDER_LETTERS_INPUT):\n",
    "    image = cv2.imread(file, 0)\n",
    "    image = cb.resizeImg(image, 20, 20)\n",
    "    image = np.expand_dims(image, axis=2)\n",
    "\n",
    "    label = file.split(os.path.sep)[-2]\n",
    "    \n",
    "    dataImages.append(image)\n",
    "    dataLabels.append(label)\n",
    "\n",
    "print(\"finish append\")\n"
   ]
  },
  {
   "cell_type": "code",
   "execution_count": 11,
   "metadata": {},
   "outputs": [
    {
     "name": "stdout",
     "output_type": "stream",
     "text": [
      "R\n"
     ]
    }
   ],
   "source": [
    "print(dataLabels[0])"
   ]
  },
  {
   "cell_type": "code",
   "execution_count": 12,
   "metadata": {},
   "outputs": [
    {
     "name": "stdout",
     "output_type": "stream",
     "text": [
      "34832\n",
      "34832\n"
     ]
    }
   ],
   "source": [
    "print(len(dataImages))\n",
    "print(len(dataLabels))"
   ]
  },
  {
   "cell_type": "code",
   "execution_count": 13,
   "metadata": {},
   "outputs": [],
   "source": [
    "FILE_LABELS_MODEL = \"label_model.dat\"\n",
    "\n",
    "dataImages = np.array(dataImages)/255\n",
    "dataLabels = np.array(dataLabels)\n",
    "\n",
    "encoder = LabelBinarizer()\n",
    "dataLabels = encoder.fit_transform(dataLabels)\n",
    "\n",
    "(Xtrain, Xtest, Ytrain, Ytest) = train_test_split(dataImages, dataLabels, test_size=0.25, random_state=70)\n",
    "\n",
    "with open(FILE_LABELS_MODEL, \"wb\") as f:\n",
    "    pickle.dump(encoder, f)\n"
   ]
  },
  {
   "cell_type": "markdown",
   "metadata": {},
   "source": [
    "## Building CNN model"
   ]
  },
  {
   "cell_type": "code",
   "execution_count": 14,
   "metadata": {},
   "outputs": [],
   "source": [
    "MODEL_FILE = \"model.hdf5\"\n",
    "\n",
    "main_model = Sequential()\n",
    "\n",
    "main_model.add(Conv2D(20, (2, 2), padding=\"same\", input_shape=(20, 20, 1), activation=\"relu\"))\n",
    "main_model.add(MaxPooling2D(pool_size=(2, 2), strides=(2, 2)))\n",
    "\n",
    "main_model.add(Conv2D(64, (2, 2), padding=\"same\", activation=\"relu\"))\n",
    "main_model.add(MaxPooling2D(pool_size=(2, 2), strides=(2, 2)))\n",
    "\n",
    "main_model.add(Flatten())\n",
    "main_model.add(Dense(500, activation=\"relu\"))\n",
    "\n",
    "main_model.add(Dense(32, activation=\"softmax\"))\n",
    "\n",
    "main_model.compile(loss=\"categorical_crossentropy\", optimizer=\"adagrad\", metrics=[\"accuracy\"])\n",
    "\n"
   ]
  },
  {
   "cell_type": "code",
   "execution_count": 15,
   "metadata": {},
   "outputs": [
    {
     "name": "stdout",
     "output_type": "stream",
     "text": [
      "Model: \"sequential_1\"\n",
      "_________________________________________________________________\n",
      "Layer (type)                 Output Shape              Param #   \n",
      "=================================================================\n",
      "conv2d_1 (Conv2D)            (None, 20, 20, 20)        100       \n",
      "_________________________________________________________________\n",
      "max_pooling2d_1 (MaxPooling2 (None, 10, 10, 20)        0         \n",
      "_________________________________________________________________\n",
      "conv2d_2 (Conv2D)            (None, 10, 10, 64)        5184      \n",
      "_________________________________________________________________\n",
      "max_pooling2d_2 (MaxPooling2 (None, 5, 5, 64)          0         \n",
      "_________________________________________________________________\n",
      "flatten_1 (Flatten)          (None, 1600)              0         \n",
      "_________________________________________________________________\n",
      "dense_1 (Dense)              (None, 500)               800500    \n",
      "_________________________________________________________________\n",
      "dense_2 (Dense)              (None, 32)                16032     \n",
      "=================================================================\n",
      "Total params: 821,816\n",
      "Trainable params: 821,816\n",
      "Non-trainable params: 0\n",
      "_________________________________________________________________\n"
     ]
    }
   ],
   "source": [
    "main_model.summary()"
   ]
  },
  {
   "cell_type": "code",
   "execution_count": 16,
   "metadata": {},
   "outputs": [
    {
     "name": "stdout",
     "output_type": "stream",
     "text": [
      "Train on 26124 samples, validate on 8708 samples\n",
      "Epoch 1/10\n",
      "26124/26124 [==============================] - 11s 430us/step - loss: 0.2196 - accuracy: 0.9492 - val_loss: 0.0570 - val_accuracy: 0.9905\n",
      "Epoch 2/10\n",
      "26124/26124 [==============================] - 11s 422us/step - loss: 0.0441 - accuracy: 0.9928 - val_loss: 0.0423 - val_accuracy: 0.9918\n",
      "Epoch 3/10\n",
      "26124/26124 [==============================] - 11s 406us/step - loss: 0.0313 - accuracy: 0.9945 - val_loss: 0.0356 - val_accuracy: 0.9930\n",
      "Epoch 4/10\n",
      "26124/26124 [==============================] - 11s 430us/step - loss: 0.0236 - accuracy: 0.9957 - val_loss: 0.0336 - val_accuracy: 0.9929\n",
      "Epoch 5/10\n",
      "26124/26124 [==============================] - 11s 421us/step - loss: 0.0188 - accuracy: 0.9966 - val_loss: 0.0322 - val_accuracy: 0.9935\n",
      "Epoch 6/10\n",
      "26124/26124 [==============================] - 10s 395us/step - loss: 0.0153 - accuracy: 0.9972 - val_loss: 0.0310 - val_accuracy: 0.9941\n",
      "Epoch 7/10\n",
      "26124/26124 [==============================] - 10s 386us/step - loss: 0.0130 - accuracy: 0.9976 - val_loss: 0.0305 - val_accuracy: 0.9938\n",
      "Epoch 8/10\n",
      "26124/26124 [==============================] - 10s 384us/step - loss: 0.0109 - accuracy: 0.9982 - val_loss: 0.0304 - val_accuracy: 0.9938\n",
      "Epoch 9/10\n",
      "26124/26124 [==============================] - 11s 405us/step - loss: 0.0093 - accuracy: 0.9984 - val_loss: 0.0285 - val_accuracy: 0.9946\n",
      "Epoch 10/10\n",
      "26124/26124 [==============================] - 10s 381us/step - loss: 0.0078 - accuracy: 0.9987 - val_loss: 0.0284 - val_accuracy: 0.9946\n"
     ]
    },
    {
     "data": {
      "text/plain": [
       "<keras.callbacks.callbacks.History at 0x7fa1c6aaea90>"
      ]
     },
     "execution_count": 16,
     "metadata": {},
     "output_type": "execute_result"
    }
   ],
   "source": [
    "main_model.fit(Xtrain, Ytrain, validation_data=(Xtest, Ytest), batch_size=32, epochs=10, verbose=1)\n"
   ]
  },
  {
   "cell_type": "code",
   "execution_count": 17,
   "metadata": {},
   "outputs": [],
   "source": [
    "main_model.save(MODEL_FILE)"
   ]
  },
  {
   "cell_type": "markdown",
   "metadata": {},
   "source": [
    "### Prediction class (for CNN, Random forest, KNN)"
   ]
  },
  {
   "cell_type": "code",
   "execution_count": 14,
   "metadata": {},
   "outputs": [],
   "source": [
    "class captcha_predict:\n",
    "    def CNNpredictImage(img):\n",
    "        dataImagesPredict = []\n",
    "\n",
    "        imgErode = cb.processImg(img)\n",
    "        imageRegions = cb.getImgRegion(imgErode)\n",
    "\n",
    "        for points in imageRegions:\n",
    "            x, y, w, h = points\n",
    "\n",
    "            image = imgErode[y:y + h, x:x + w]\n",
    "\n",
    "            image = cb.resizeImg(image, 20, 20)\n",
    "            image = np.expand_dims(image, axis=2)\n",
    "\n",
    "            dataImagesPredict.append(image)\n",
    "\n",
    "        dataImagesPredict = np.array(dataImagesPredict)/255\n",
    "\n",
    "        for element in dataImagesPredict:\n",
    "            prediction = main_model.predict(dataImagesPredict)\n",
    "            letter = encoder.inverse_transform(prediction)\n",
    "            \n",
    "        print(\"CAPTCHA TEXT:\", letter)\n",
    "        plt.imshow(imgErode, cmap='gray')\n",
    "        plt.axis('off')\n",
    "        plt.show()\n",
    "        \n",
    "    def rfPredict(img):\n",
    "        dataImagesPredict = []\n",
    "\n",
    "        imgErode = cb.processImg(img)\n",
    "        imageRegions = cb.getImgRegion(imgErode)\n",
    "\n",
    "        for points in imageRegions:\n",
    "            x, y, w, h = points\n",
    "\n",
    "            image = imgErode[y:y + h, x:x + w]\n",
    "\n",
    "            image = cb.resizeImg(image, 20, 20)\n",
    "            image = np.expand_dims(image, axis=2)\n",
    "\n",
    "            dataImagesPredict.append(image)\n",
    "\n",
    "        dataImagesPredict = np.array(dataImagesPredict)/255\n",
    "        print(dataImagesPredict.shape)\n",
    "        \n",
    "        a, b, c, d = dataImagesPredict.shape\n",
    "        dataImagesPredict = dataImagesPredict.reshape((a,b*c*d))\n",
    "\n",
    "        for element in dataImagesPredict:\n",
    "            prediction = rf.predict(dataImagesPredict)\n",
    "            letter = encoder.inverse_transform(prediction)\n",
    "            \n",
    "        print(\"CAPTCHA TEXT:\", letter)\n",
    "        plt.imshow(imgErode, cmap='gray')\n",
    "        plt.axis('off')\n",
    "        plt.show()\n",
    "        \n",
    "    def knnPredict(img):\n",
    "        dataImagesPredict = []\n",
    "\n",
    "        imgErode = cb.processImg(img)\n",
    "        imageRegions = cb.getImgRegion(imgErode)\n",
    "\n",
    "        for points in imageRegions:\n",
    "            x, y, w, h = points\n",
    "\n",
    "            image = imgErode[y:y + h, x:x + w]\n",
    "\n",
    "            image = cb.resizeImg(image, 20, 20)\n",
    "            image = np.expand_dims(image, axis=2)\n",
    "\n",
    "            dataImagesPredict.append(image)\n",
    "\n",
    "        dataImagesPredict = np.array(dataImagesPredict)/255\n",
    "        print(dataImagesPredict.shape)\n",
    "        \n",
    "        a, b, c, d = dataImagesPredict.shape\n",
    "        dataImagesPredict = dataImagesPredict.reshape((a,b*c*d))\n",
    "\n",
    "        for element in dataImagesPredict:\n",
    "            prediction = knn.predict(dataImagesPredict)\n",
    "            letter = encoder.inverse_transform(prediction)\n",
    "            \n",
    "        print(\"CAPTCHA TEXT:\", letter)\n",
    "        plt.imshow(imgErode, cmap='gray')\n",
    "        plt.axis('off')\n",
    "        plt.show()"
   ]
  },
  {
   "cell_type": "markdown",
   "metadata": {},
   "source": [
    "## CAPTCHA Prediction with CNN"
   ]
  },
  {
   "cell_type": "code",
   "execution_count": 16,
   "metadata": {},
   "outputs": [
    {
     "name": "stdout",
     "output_type": "stream",
     "text": [
      "CAPTCHA TEXT: ['Z' 'W' 'B' 'J']\n"
     ]
    },
    {
     "data": {
      "image/png": "[encoded data removed]",
      "text/plain": [
       "<Figure size 432x288 with 1 Axes>"
      ]
     },
     "metadata": {
      "needs_background": "light"
     },
     "output_type": "display_data"
    },
    {
     "name": "stdout",
     "output_type": "stream",
     "text": [
      "CAPTCHA TEXT: ['C' 'G' 'L' 'T']\n"
     ]
    },
    {
     "data": {
      "image/png": "[encoded data removed]",
      "text/plain": [
       "<Figure size 432x288 with 1 Axes>"
      ]
     },
     "metadata": {
      "needs_background": "light"
     },
     "output_type": "display_data"
    }
   ],
   "source": [
    "cp = captcha_predict\n",
    "\n",
    "img = cv2.imread(\"tests/01.png\", 0)\n",
    "cp.CNNpredictImage(img)\n",
    "\n",
    "img = cv2.imread(\"tests/02.png\", 0)\n",
    "cp.CNNpredictImage(img)"
   ]
  },
  {
   "cell_type": "markdown",
   "metadata": {},
   "source": [
    "We have tested our model with 2 test cases. In both cases, the CAPTCHA text and the image matches.\n",
    "\n",
    "We will now use Rondom Forest and KNN algorithms and see how they fare compared to CNN."
   ]
  },
  {
   "cell_type": "markdown",
   "metadata": {},
   "source": [
    "# III. Randomn Forest and KNN Classification Algorithms"
   ]
  },
  {
   "cell_type": "markdown",
   "metadata": {},
   "source": [
    "### Data Modeling"
   ]
  },
  {
   "cell_type": "code",
   "execution_count": 17,
   "metadata": {},
   "outputs": [
    {
     "data": {
      "text/plain": [
       "(26124, 400)"
      ]
     },
     "execution_count": 17,
     "metadata": {},
     "output_type": "execute_result"
    }
   ],
   "source": [
    "Xtrain.shape\n",
    "a, b, c, d = Xtrain.shape\n",
    "XtrainNew = Xtrain.reshape((a,b*c))\n",
    "XtrainNew.shape"
   ]
  },
  {
   "cell_type": "code",
   "execution_count": 18,
   "metadata": {},
   "outputs": [
    {
     "data": {
      "text/plain": [
       "(8708, 400)"
      ]
     },
     "execution_count": 18,
     "metadata": {},
     "output_type": "execute_result"
    }
   ],
   "source": [
    "Xtest.shape\n",
    "a, b, c, d = Xtest.shape\n",
    "XtestNew = Xtest.reshape((a,b*c*d))\n",
    "XtestNew.shape"
   ]
  },
  {
   "cell_type": "code",
   "execution_count": 19,
   "metadata": {},
   "outputs": [
    {
     "data": {
      "text/plain": [
       "(26124, 32)"
      ]
     },
     "execution_count": 19,
     "metadata": {},
     "output_type": "execute_result"
    }
   ],
   "source": [
    "Ytrain.shape"
   ]
  },
  {
   "cell_type": "markdown",
   "metadata": {},
   "source": [
    "# Randomn Forest"
   ]
  },
  {
   "cell_type": "markdown",
   "metadata": {},
   "source": [
    "### Training Random Forest Model"
   ]
  },
  {
   "cell_type": "code",
   "execution_count": 20,
   "metadata": {},
   "outputs": [],
   "source": [
    "def model_training(model, X, y):\n",
    "  model.fit(X,y)\n",
    "  \n",
    "  return(model)"
   ]
  },
  {
   "cell_type": "code",
   "execution_count": 21,
   "metadata": {},
   "outputs": [
    {
     "data": {
      "text/plain": [
       "RandomForestClassifier(bootstrap=True, class_weight=None, criterion='gini',\n",
       "                       max_depth=None, max_features='sqrt', max_leaf_nodes=None,\n",
       "                       min_impurity_decrease=0.0, min_impurity_split=None,\n",
       "                       min_samples_leaf=1, min_samples_split=2,\n",
       "                       min_weight_fraction_leaf=0.0, n_estimators=100,\n",
       "                       n_jobs=-1, oob_score=False, random_state=None, verbose=0,\n",
       "                       warm_start=False)"
      ]
     },
     "execution_count": 21,
     "metadata": {},
     "output_type": "execute_result"
    }
   ],
   "source": [
    "from sklearn.ensemble import RandomForestClassifier, AdaBoostClassifier\n",
    "\n",
    "rf = RandomForestClassifier(n_estimators=100, \n",
    "                            criterion='gini', \n",
    "                            max_features='sqrt',\n",
    "                            n_jobs=-1)\n",
    "model_training(rf, XtrainNew, Ytrain)\n"
   ]
  },
  {
   "cell_type": "markdown",
   "metadata": {},
   "source": [
    "### Accuracy for random forest"
   ]
  },
  {
   "cell_type": "code",
   "execution_count": 22,
   "metadata": {},
   "outputs": [
    {
     "name": "stdout",
     "output_type": "stream",
     "text": [
      "Training accuracy: 100.00%\n",
      "Test accuracy: 99.94%\n"
     ]
    }
   ],
   "source": [
    "def get_acuuracy(model, X, y):\n",
    "  y_pred = model.predict(X)\n",
    "\n",
    "  if sys.version_info < (3, 0):\n",
    "      accuracy = ((np.sum(y == y_pred, axis=0)).astype('float') /\n",
    "            X.shape[0])\n",
    "  else:\n",
    "      accuracy = np.sum(y == y_pred, axis=0) / X.shape[0]\n",
    "\n",
    "  #print('Accuracy: %.2f%%' % (accuracy * 100))\n",
    "  \n",
    "  return(accuracy * 100).mean()\n",
    "\n",
    "\n",
    "training_accuracy=get_acuuracy(rf, XtrainNew, Ytrain)\n",
    "print('Training accuracy: %.2f%%' %training_accuracy)\n",
    "\n",
    "test_accuracy=get_acuuracy(rf, XtestNew, Ytest)\n",
    "print('Test accuracy: %.2f%%' %test_accuracy)"
   ]
  },
  {
   "cell_type": "markdown",
   "metadata": {},
   "source": [
    "### CAPTCHA prediction with Random forest"
   ]
  },
  {
   "cell_type": "code",
   "execution_count": 23,
   "metadata": {},
   "outputs": [
    {
     "name": "stdout",
     "output_type": "stream",
     "text": [
      "(4, 20, 20, 1)\n",
      "CAPTCHA TEXT: ['C' 'G' 'L' 'T']\n"
     ]
    },
    {
     "data": {
      "image/png": "[encoded data removed]",
      "text/plain": [
       "<Figure size 432x288 with 1 Axes>"
      ]
     },
     "metadata": {
      "needs_background": "light"
     },
     "output_type": "display_data"
    }
   ],
   "source": [
    "cp = captcha_predict\n",
    "\n",
    "img = cv2.imread(\"tests/02.png\", 0)\n",
    "cp.rfPredict(img)"
   ]
  },
  {
   "cell_type": "markdown",
   "metadata": {},
   "source": [
    "# K-Nearest Neighbours"
   ]
  },
  {
   "cell_type": "code",
   "execution_count": 24,
   "metadata": {},
   "outputs": [],
   "source": [
    "from sklearn.neighbors import KNeighborsClassifier\n",
    "\n",
    "#import metrics model to check the accuracy \n",
    "from sklearn import metrics\n",
    "#Running from k=1 through 5 and record testing accuracy\n",
    "k_range = range(1,5)\n",
    "scores = {}\n",
    "scores_list = []\n",
    "for k in k_range:\n",
    "        knn = KNeighborsClassifier(n_neighbors=k)\n",
    "        knn.fit(XtrainNew,Ytrain)\n",
    "        y_pred=knn.predict(XtestNew)\n",
    "        scores[k] = metrics.accuracy_score(Ytest,y_pred)\n",
    "        scores_list.append(metrics.accuracy_score(Ytest,y_pred))\n",
    "        \n",
    "        "
   ]
  },
  {
   "cell_type": "code",
   "execution_count": 25,
   "metadata": {},
   "outputs": [
    {
     "data": {
      "text/plain": [
       "{1: 0.9916169039963252,\n",
       " 2: 0.9873679375287092,\n",
       " 3: 0.9901240238860818,\n",
       " 4: 0.987827285254938}"
      ]
     },
     "execution_count": 25,
     "metadata": {},
     "output_type": "execute_result"
    }
   ],
   "source": [
    "scores"
   ]
  },
  {
   "cell_type": "code",
   "execution_count": 26,
   "metadata": {},
   "outputs": [
    {
     "data": {
      "text/plain": [
       "Text(0, 0.5, 'Testing Accuracy')"
      ]
     },
     "execution_count": 26,
     "metadata": {},
     "output_type": "execute_result"
    },
    {
     "data": {
      "image/png": "[encoded data removed]",
      "text/plain": [
       "<Figure size 432x288 with 1 Axes>"
      ]
     },
     "metadata": {
      "needs_background": "light"
     },
     "output_type": "display_data"
    }
   ],
   "source": [
    "plt.plot(k_range,scores_list)\n",
    "plt.xlabel('Value of K for KNN')\n",
    "plt.ylabel('Testing Accuracy')"
   ]
  },
  {
   "cell_type": "markdown",
   "metadata": {},
   "source": [
    "### Training our KNN model"
   ]
  },
  {
   "cell_type": "markdown",
   "metadata": {},
   "source": [
    "Since we know that there are 4 clusters, we will choose k=4. "
   ]
  },
  {
   "cell_type": "code",
   "execution_count": 27,
   "metadata": {},
   "outputs": [],
   "source": [
    "'Setup a knn classifier with k neighbors'\n",
    "\n",
    "knn = KNeighborsClassifier(n_neighbors=4)\n",
    "knn.fit(XtrainNew,Ytrain)\n",
    "\n",
    "#Fitting the model\n",
    "knn.fit(XtrainNew,Ytrain)\n",
    "y_pred = knn.predict(XtestNew)"
   ]
  },
  {
   "cell_type": "markdown",
   "metadata": {},
   "source": [
    "### Obtaining Accuracy of our KNN model"
   ]
  },
  {
   "cell_type": "code",
   "execution_count": 28,
   "metadata": {},
   "outputs": [
    {
     "name": "stdout",
     "output_type": "stream",
     "text": [
      "KNN Accuracy: 0.987827285254938\n",
      "              precision    recall  f1-score   support\n",
      "\n",
      "           0       1.00      0.98      0.99       266\n",
      "           1       1.00      0.99      0.99       269\n",
      "           2       1.00      0.98      0.99       263\n",
      "           3       0.99      0.97      0.98       278\n",
      "           4       1.00      0.99      1.00       279\n",
      "           5       0.99      0.98      0.99       293\n",
      "           6       0.99      0.99      0.99       256\n",
      "           7       1.00      1.00      1.00       327\n",
      "           8       1.00      1.00      1.00       267\n",
      "           9       1.00      0.97      0.99       233\n",
      "          10       1.00      0.99      0.99       251\n",
      "          11       1.00      0.99      0.99       265\n",
      "          12       1.00      0.97      0.99       283\n",
      "          13       0.99      1.00      0.99       271\n",
      "          14       1.00      0.99      0.99       268\n",
      "          15       1.00      1.00      1.00       301\n",
      "          16       0.99      0.99      0.99       274\n",
      "          17       1.00      0.98      0.99       292\n",
      "          18       1.00      0.99      0.99       290\n",
      "          19       1.00      0.99      0.99       248\n",
      "          20       1.00      0.99      1.00       306\n",
      "          21       1.00      0.99      0.99       269\n",
      "          22       0.97      0.99      0.98       196\n",
      "          23       1.00      0.99      0.99       260\n",
      "          24       1.00      0.98      0.99       310\n",
      "          25       1.00      0.99      1.00       283\n",
      "          26       1.00      0.99      0.99       281\n",
      "          27       1.00      0.99      0.99       273\n",
      "          28       1.00      0.98      0.99       212\n",
      "          29       1.00      0.98      0.99       264\n",
      "          30       0.99      1.00      1.00       319\n",
      "          31       1.00      0.98      0.99       261\n",
      "\n",
      "   micro avg       1.00      0.99      0.99      8708\n",
      "   macro avg       1.00      0.99      0.99      8708\n",
      "weighted avg       1.00      0.99      0.99      8708\n",
      " samples avg       0.99      0.99      0.99      8708\n",
      "\n"
     ]
    },
    {
     "name": "stderr",
     "output_type": "stream",
     "text": [
      "/Users/lakshmi/opt/anaconda3/lib/python3.7/site-packages/sklearn/metrics/classification.py:1437: UndefinedMetricWarning: Precision and F-score are ill-defined and being set to 0.0 in samples with no predicted labels.\n",
      "  'precision', 'predicted', average, warn_for)\n"
     ]
    }
   ],
   "source": [
    "from sklearn.metrics import classification_report\n",
    "\n",
    "Accuracy=knn.score(XtestNew,Ytest)\n",
    "print('KNN Accuracy:',Accuracy)\n",
    "print(classification_report(Ytest, y_pred))"
   ]
  },
  {
   "cell_type": "markdown",
   "metadata": {},
   "source": [
    "### CAPTCHA prediction with KNN "
   ]
  },
  {
   "cell_type": "code",
   "execution_count": 29,
   "metadata": {},
   "outputs": [
    {
     "name": "stdout",
     "output_type": "stream",
     "text": [
      "(4, 20, 20, 1)\n",
      "CAPTCHA TEXT: ['C' 'G' 'L' 'T']\n"
     ]
    },
    {
     "data": {
      "image/png": "[encoded data removed]",
      "text/plain": [
       "<Figure size 432x288 with 1 Axes>"
      ]
     },
     "metadata": {
      "needs_background": "light"
     },
     "output_type": "display_data"
    }
   ],
   "source": [
    "cp = captcha_predict\n",
    "\n",
    "img = cv2.imread(\"tests/02.png\", 0)\n",
    "cp.knnPredict(img)"
   ]
  },
  {
   "cell_type": "markdown",
   "metadata": {},
   "source": [
    "The accuracy of KNN is satisfactory and the prediction is accurate. "
   ]
  },
  {
   "cell_type": "markdown",
   "metadata": {},
   "source": [
    "# <font size=\"7\"> Conclusion"
   ]
  },
  {
   "cell_type": "markdown",
   "metadata": {},
   "source": [
    "We are successful in implementing CAPTCHA recognition and prediction using Neural Networks on our dataset. We also trained and tested Random Forest and KNN classification algorithms. Both models had good accuracy of over 98%. Even though the accuracy was satisfactory in this case, both these algorithms become significantly slower as the volume of data increases making them an impractical choice in environments where predictions need to be made rapidly. Hence CNN emerges as the algorithm of choice."
   ]
  },
  {
   "cell_type": "code",
   "execution_count": null,
   "metadata": {},
   "outputs": [],
   "source": []
  }
 ],
 "metadata": {
  "kernelspec": {
   "display_name": "Python 3",
   "language": "python",
   "name": "python3"
  },
  "language_info": {
   "codemirror_mode": {
    "name": "ipython",
    "version": 3
   },
   "file_extension": ".py",
   "mimetype": "text/x-python",
   "name": "python",
   "nbconvert_exporter": "python",
   "pygments_lexer": "ipython3",
   "version": "3.7.4"
  }
 },
 "nbformat": 4,
 "nbformat_minor": 2
}
